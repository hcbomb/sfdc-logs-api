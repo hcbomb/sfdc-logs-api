{
 "metadata": {
  "name": "",
  "signature": "sha256:e4910159cd7757b7f33b44b41276e80183e4db3d187d674ab7660c74e7d7291e"
 },
 "nbformat": 3,
 "nbformat_minor": 0,
 "worksheets": [
  {
   "cells": [
    {
     "cell_type": "code",
     "collapsed": false,
     "input": [
      "import ConfigParser\n",
      "import base64 as b\n",
      "import json\n",
      "import pprint\n",
      "import re\n",
      "import requests\n",
      "import os\n",
      "import logging\n",
      "from logging.handlers import TimedRotatingFileHandler as TimedRotatingFileHandler\n",
      "from datetime import datetime"
     ],
     "language": "python",
     "metadata": {},
     "outputs": []
    },
    {
     "cell_type": "code",
     "collapsed": false,
     "input": [
      "from IPython.html import widgets # Widget definitions\n",
      "from IPython.display import display # Used to display widgets in the notebook"
     ],
     "language": "python",
     "metadata": {},
     "outputs": []
    },
    {
     "cell_type": "code",
     "collapsed": false,
     "input": [
      "log = logging.getLogger('salesforce_getLogs')\n",
      "log.setLevel(logging.DEBUG)\n",
      "fh = TimedRotatingFileHandler('sfdc.api.getlogs.log', when='d', interval=4, backupCount=14)\n",
      "fh.setLevel(logging.DEBUG)\n",
      "ch = logging.StreamHandler()\n",
      "ch.setLevel(logging.WARNING)\n",
      "formatter = logging.Formatter('%(asctime)s log_level=%(levelname)s: function=%(funcName)s message=\"%(message)s\"',\n",
      "                              datefmt='%m/%d/%YT%H:%M:%S%z')\n",
      "fh.setFormatter(formatter)\n",
      "ch.setFormatter(formatter)\n",
      "log.addHandler(fh)\n",
      "log.addHandler(ch)"
     ],
     "language": "python",
     "metadata": {},
     "outputs": []
    },
    {
     "cell_type": "code",
     "collapsed": false,
     "input": [
      "try:\n",
      "    import simple_salesforce\n",
      "except ImportError:\n",
      "    log.exception('Missing module <%s>; please install using: \"pip install %s\"'\n",
      "                  % ('simple_salesforce', 'simple_salesforce'))"
     ],
     "language": "python",
     "metadata": {},
     "outputs": []
    },
    {
     "cell_type": "code",
     "collapsed": false,
     "input": [
      "pp = pprint.PrettyPrinter(indent=2)\n",
      "verbose = True\n",
      "testing = True\n",
      "org_list = {}\n",
      "app_list = {}\n",
      "org_collect = None"
     ],
     "language": "python",
     "metadata": {},
     "outputs": []
    },
    {
     "cell_type": "code",
     "collapsed": false,
     "input": [
      "# init cfg operations\n",
      "cfg = ConfigParser.SafeConfigParser()\n",
      "fp = None"
     ],
     "language": "python",
     "metadata": {},
     "outputs": []
    },
    {
     "cell_type": "code",
     "collapsed": false,
     "input": [
      "path = ''\n",
      "path = ''\n",
      "f = path+'.creds'\n",
      "w = f+'.enc'\n",
      "fp = cfg.read(f)"
     ],
     "language": "python",
     "metadata": {},
     "outputs": []
    },
    {
     "cell_type": "code",
     "collapsed": false,
     "input": [
      "def config_dump():\n",
      "    for s in cfg.sections():\n",
      "        print 'section: %s' % s\n",
      "        for o in cfg.options(s):\n",
      "            print '\\t%s => %s' % (o, cfg.get(s,o))"
     ],
     "language": "python",
     "metadata": {},
     "outputs": []
    },
    {
     "cell_type": "code",
     "collapsed": false,
     "input": [
      "# default: read file\n",
      "def check_file(file_path, write_true=False):\n",
      "    if os.path.exists(file_path):\n",
      "        if write_true:\n",
      "            log.warning('File: %s already exists. Overwriting' % file_path)\n",
      "        else:\n",
      "            log.info('Attempting to read file %s' % file_path)\n",
      "    # if file does not exist and attempting to read, error\n",
      "    elif not write_true:\n",
      "        raise RuntimeError('File: %s does not exist; please validate' % file_path)"
     ],
     "language": "python",
     "metadata": {},
     "outputs": []
    },
    {
     "cell_type": "code",
     "collapsed": false,
     "input": [
      "def validate_config(file_path, write_true=False):\n",
      "    try:\n",
      "        check_file(file_path, write_true)\n",
      "        fp = cfg.read(file_path)\n",
      "    except Exception, e:\n",
      "        log.error(e)\n",
      "        raise RuntimeError('config file %s invalid; please validate' % file_path)\n",
      "  \n",
      "    if not cfg.sections():\n",
      "        log.error('No sections to defined in config file %s' % file_path)\n",
      "        raise RuntimeError('No sections to defined in config file %s' % file_path)\n",
      "    for s in cfg.sections():\n",
      "        user_check = False\n",
      "        pass_check = False\n",
      "        id_check = False\n",
      "        secret_check = False\n",
      "        \n",
      "        try:\n",
      "            stype = b.b64decode(cfg.get(s,'type'))\n",
      "        except:\n",
      "            log.warning('no type specified for section %s' % s)\n",
      "            continue\n",
      "\n",
      "        # validates option field and value specified\n",
      "        for o in cfg.options(s):\n",
      "            enc = cfg.get(s,o)\n",
      "            if stype == 'org':\n",
      "                user_check = True if o == 'user' and enc else user_check\n",
      "                pass_check = True if o == 'pass' and enc else pass_check\n",
      "            else:\n",
      "                id_check = True if o == 'client_id' and enc else id_check\n",
      "                secret_check = True if o == 'client_secret' and enc else secret_check\n",
      "\n",
      "        log.info('section: %s\\ttype: %s' % (s, stype))\n",
      "        if stype == 'org':\n",
      "            org_list[s] = {}\n",
      "            if (not user_check or not pass_check):\n",
      "                log.warning('user credentials not set for org <%s>' % s)\n",
      "        if stype == 'app':\n",
      "            app_list[s] = {}\n",
      "            if (not id_check or not secret_check):\n",
      "                log.warning('connected app settings not configured for <%s>' % s)\n",
      "        "
     ],
     "language": "python",
     "metadata": {},
     "outputs": []
    },
    {
     "cell_type": "heading",
     "level": 2,
     "metadata": {},
     "source": [
      "Initial sync of creds"
     ]
    },
    {
     "cell_type": "code",
     "collapsed": false,
     "input": [
      "# org62\n",
      "org62 = {}\n",
      "org62['type'] = b.b64encode(cfg.get('org62','type'))\n",
      "org62['env'] = b.b64encode(cfg.get('org62','env'))\n",
      "org62['user'] = b.b64encode(cfg.get('org62','user'))\n",
      "org62['pass'] = b.b64encode(cfg.get('org62','pass'))\n",
      "org62['orgid'] = b.b64encode(cfg.get('org62','orgid'))\n",
      "\n",
      "#org62 sandbox\n",
      "#org62_sandbox = {}\n",
      "#org62_sandbox['type'] = b.b64encode(cfg.get('org62 sandbox','type'))\n",
      "#org62_sandbox['env'] = b.b64encode(cfg.get('org62 sandbox','env'))\n",
      "#org62_sandbox['user'] = b.b64encode(cfg.get('org62 sandbox','user'))\n",
      "#org62_sandbox['pass'] = b.b64encode(cfg.get('org62 sandbox','pass'))\n",
      "#org62_sandbox['orgid'] = b.b64encode(cfg.get('org62 sandbox','orgid'))\n",
      "\n",
      "# tz\n",
      "tz = {}\n",
      "tz['type'] = b.b64encode(cfg.get('tz','type'))\n",
      "tz['env'] = b.b64encode(cfg.get('tz','env'))\n",
      "tz['user'] = b.b64encode(cfg.get('tz','user'))\n",
      "tz['pass'] = b.b64encode(cfg.get('tz','pass'))\n",
      "tz['orgid'] = b.b64encode(cfg.get('tz','orgid'))\n",
      "\n",
      "#tz sandbox\n",
      "tz_sandbox = {}\n",
      "tz_sandbox['type'] = b.b64encode(cfg.get('tz sandbox','type'))\n",
      "tz_sandbox['env'] = b.b64encode(cfg.get('tz sandbox','env'))\n",
      "tz_sandbox['user'] = b.b64encode(cfg.get('tz sandbox','user'))\n",
      "tz_sandbox['pass'] = b.b64encode(cfg.get('tz sandbox','pass'))\n",
      "tz_sandbox['orgid'] = b.b64encode(cfg.get('tz sandbox','orgid'))\n",
      "\n",
      "#connected app\n",
      "ca = {}\n",
      "ca['type'] = b.b64encode(cfg.get('app','type'))\n",
      "ca['env'] = b.b64encode(cfg.get('app','env'))\n",
      "ca['client_id'] = b.b64encode(cfg.get('app','client_id'))\n",
      "ca['client_secret'] = b.b64encode(cfg.get('app','client_secret'))\n",
      "\n",
      "wp = open(w, 'wb')\n",
      "cfg_w = ConfigParser.ConfigParser()\n",
      "\n",
      "# add the settings to the structure of the file, and lets write it out...\n",
      "cfg_w.add_section('app')\n",
      "cfg_w.set('app','type',ca['type'])\n",
      "cfg_w.set('app','env',ca['env'])\n",
      "cfg_w.set('app','client_id',ca['client_id'])\n",
      "cfg_w.set('app','client_secret',ca['client_secret'])\n",
      "\n",
      "cfg_w.add_section('org62')\n",
      "cfg_w.set('org62','type',org62['type'])\n",
      "cfg_w.set('org62','env',org62['env'])\n",
      "cfg_w.set('org62','user',org62['user'])\n",
      "cfg_w.set('org62','pass',org62['pass'])\n",
      "cfg_w.set('org62','orgid',org62['orgid'])\n",
      "\n",
      "cfg_w.add_section('tz')\n",
      "cfg_w.set('tz','type',tz['type'])\n",
      "cfg_w.set('tz','env',tz['env'])\n",
      "cfg_w.set('tz','user',tz['user'])\n",
      "cfg_w.set('tz','pass',tz['pass'])\n",
      "cfg_w.set('tz','orgid',tz['orgid'])\n",
      "\n",
      "#cfg_w.add_section('org62 sandbox')\n",
      "#cfg_w.set('org62 sandbox','type',org62_sandbox['type'])\n",
      "#cfg_w.set('org62 sandbox','env',org62_sandbox['env'])\n",
      "#cfg_w.set('org62 sandbox','user',org62_sandbox['user'])\n",
      "#cfg_w.set('org62 sandbox','pass',org62_sandbox['pass'])\n",
      "#cfg_w.set('org62 sandbox','orgid',org62_sandbox['orgid'])\n",
      "\n",
      "cfg_w.add_section('tz sandbox')\n",
      "cfg_w.set('tz sandbox','type',tz_sandbox['type'])\n",
      "cfg_w.set('tz sandbox','env',tz_sandbox['env'])\n",
      "cfg_w.set('tz sandbox','user',tz_sandbox['user'])\n",
      "cfg_w.set('tz sandbox','pass',tz_sandbox['pass'])\n",
      "cfg_w.set('tz sandbox','orgid',tz_sandbox['orgid'])\n",
      "\n",
      "cfg_w.write(wp)\n",
      "wp.close()"
     ],
     "language": "python",
     "metadata": {},
     "outputs": []
    },
    {
     "cell_type": "heading",
     "level": 2,
     "metadata": {},
     "source": [
      "Extract Config"
     ]
    },
    {
     "cell_type": "code",
     "collapsed": false,
     "input": [
      "def extract_connapp(app_name):\n",
      "    app = {}\n",
      "    try:\n",
      "        app['client_id'] = b.b64decode(cfg.get(app_name, 'client_id'))\n",
      "        app['client_secret'] = b.b64decode(cfg.get(app_name, 'client_secret'))\n",
      "    except Exception, e:\n",
      "        log.error(str(e) +': cannot extract client credentials')\n",
      "        raise\n",
      "    return app\n",
      "\n",
      "def extract_org(org_name, check_rest=False):\n",
      "    org = {}\n",
      "    status = ''\n",
      "    try:\n",
      "        org['user'] = b.b64decode(cfg.get(org_name, 'user'))\n",
      "        org['pass'] = b.b64decode(cfg.get(org_name, 'pass'))\n",
      "    except Exception, e:\n",
      "        if str(e) == 'Incorrect padding':\n",
      "            log.error(str(e) +': validate if file is properly encoded')\n",
      "            return str(e), org\n",
      "        log.error(str(e) +': cannot extract user credentials')\n",
      "\n",
      "    try:\n",
      "        org['env'] = b.b64decode(cfg.get(org_name, 'env'))\n",
      "    except Exception, e:\n",
      "        log.error(str(e) +': environment not set for org %s' % org_name)\n",
      "\n",
      "    try:\n",
      "        # if not rest, check for orgId to make library call to simple salesforce\n",
      "        if not check_rest:\n",
      "            org['orgid'] = b.b64decode(cfg.get(org_name, 'orgid'))\n",
      "    except Exception, e:\n",
      "        log.error(str(e) +': no org id found.')\n",
      "        \n",
      "    return status, org"
     ],
     "language": "python",
     "metadata": {},
     "outputs": []
    },
    {
     "cell_type": "code",
     "collapsed": false,
     "input": [
      "def extract_configs(check_rest, org=None, app=None):\n",
      "    if org:\n",
      "        # all orgs is specified, extract just orgs\n",
      "        if 'all' == org:\n",
      "            for s in cfg.sections():\n",
      "                # don't forget; these are encoded\n",
      "                if (b.b64decode(cfg.get(s,'type')) == 'org'):\n",
      "                    error_str, org_temp = extract_org(s, check_rest)\n",
      "                    if error_str:\n",
      "                        log.error('cannot complete config read <%s>; terminating' % error_str)\n",
      "                        break\n",
      "                    # append only if something was returned\n",
      "                    if org_temp:\n",
      "                        org_list[s] = org_temp \n",
      "    elif app:\n",
      "        # REST is specified, so check for connected app settings\n",
      "        if check_rest:\n",
      "            if not app:\n",
      "                raise RuntimeError('missing app name: please specify app name to check in configs for REST login')\n",
      "            elif 'all' == app:\n",
      "                for s in cfg.sections():\n",
      "                    if (b.b64decode(cfg.get(s,'type')) == 'app'):\n",
      "                        app_temp = extract_connapp(s)\n",
      "                        if app_temp:\n",
      "                            app_list[s] = app_temp\n"
     ],
     "language": "python",
     "metadata": {},
     "outputs": []
    },
    {
     "cell_type": "heading",
     "level": 1,
     "metadata": {},
     "source": [
      "Extract Creds"
     ]
    },
    {
     "cell_type": "code",
     "collapsed": false,
     "input": [
      "# org62\n",
      "org62 = {}\n",
      "org62['user'] = b.b64decode(cfg.get('org62','user'))\n",
      "org62['pass'] = b.b64decode(cfg.get('org62','pass'))\n",
      "\n",
      "#org62 sandbox\n",
      "org62_sandbox = {}\n",
      "org62_sandbox['user'] = b.b64decode(cfg.get('org62 sandbox','user'))\n",
      "org62_sandbox['pass'] = b.b64decode(cfg.get('org62 sandbox','pass'))\n",
      "\n",
      "# tz\n",
      "tz = {}\n",
      "tz['user'] = b.b64decode(cfg.get('tz','user'))\n",
      "tz['pass'] = b.b64decode(cfg.get('tz','pass'))\n",
      "\n",
      "#tz sandbox\n",
      "tz_sandbox = {}\n",
      "tz_sandbox['user'] = b.b64decode(cfg.get('tz sandbox','user'))\n",
      "tz_sandbox['pass'] = b.b64decode(cfg.get('tz sandbox','pass'))\n",
      "\n",
      "#connected app\n",
      "ca = {}\n",
      "ca['client_id'] = b.b64decode(cfg.get('connected_app','client_id'))\n",
      "ca['client_secret'] = b.b64decode(cfg.get('connected_app','client_secret'))"
     ],
     "language": "python",
     "metadata": {},
     "outputs": []
    },
    {
     "cell_type": "heading",
     "level": 2,
     "metadata": {},
     "source": [
      "Client App keys"
     ]
    },
    {
     "cell_type": "code",
     "collapsed": false,
     "input": [
      "CLIENT_ID = ca['client_id']\n",
      "CLIENT_SECRET = ca['client_secret']"
     ],
     "language": "python",
     "metadata": {},
     "outputs": []
    },
    {
     "cell_type": "heading",
     "level": 2,
     "metadata": {},
     "source": [
      "Org62 Prod"
     ]
    },
    {
     "cell_type": "code",
     "collapsed": false,
     "input": [
      "USERNAME = org62['user']\n",
      "PASSWD = org62['pass']\n",
      "sandbox = False"
     ],
     "language": "python",
     "metadata": {},
     "outputs": []
    },
    {
     "cell_type": "heading",
     "level": 2,
     "metadata": {},
     "source": [
      "Org62 Sandbox"
     ]
    },
    {
     "cell_type": "code",
     "collapsed": false,
     "input": [
      "USERNAME = org62_sandbox['user']\n",
      "PASSWD = org62_sandbox['pass']\n",
      "sandbox = True"
     ],
     "language": "python",
     "metadata": {},
     "outputs": []
    },
    {
     "cell_type": "heading",
     "level": 2,
     "metadata": {},
     "source": [
      "TZ Prod"
     ]
    },
    {
     "cell_type": "code",
     "collapsed": false,
     "input": [
      "USERNAME = tz['user']\n",
      "PASSWD = tz['pass']\n",
      "sandbox = False"
     ],
     "language": "python",
     "metadata": {},
     "outputs": []
    },
    {
     "cell_type": "heading",
     "level": 2,
     "metadata": {},
     "source": [
      "TZ Sandbox"
     ]
    },
    {
     "cell_type": "code",
     "collapsed": false,
     "input": [
      "USERNAME = tz_sandbox['user']\n",
      "PASSWD = tz_sandbox['pass']\n",
      "sandbox = True"
     ],
     "language": "python",
     "metadata": {},
     "outputs": []
    },
    {
     "cell_type": "heading",
     "level": 2,
     "metadata": {},
     "source": [
      "Acquire Session ID"
     ]
    },
    {
     "cell_type": "code",
     "collapsed": false,
     "input": [
      "def sessionid_login(org, username, password, orgid, sandbox=False):\n",
      "    session_id, sf_instance = None, None\n",
      "    try:\n",
      "        session_id, sf_instance = simple_salesforce.SalesforceLogin(username=username,\n",
      "                                                                    password=password,\n",
      "                                                                    organizationId=orgid, \n",
      "                                                                    sandbox=sandbox, \n",
      "                                                                    sf_version='31.0')\n",
      "    except Exception, e:\n",
      "        log.error(str(e) + ': failed SOAP login for org %s' % org)\n",
      "    issued=datetime.now().strftime('%s') if session_id else None\n",
      "    return session_id, sf_instance, issued"
     ],
     "language": "python",
     "metadata": {},
     "outputs": []
    },
    {
     "cell_type": "heading",
     "level": 2,
     "metadata": {},
     "source": [
      "Acquire Access Token"
     ]
    },
    {
     "cell_type": "code",
     "collapsed": false,
     "input": [
      "def token_login(username, password, client_id, client_secret,\n",
      "                url = None,\n",
      "                token = None, \n",
      "                sandbox = None):\n",
      "\n",
      "    params = {'client_id': client_id,\n",
      "     'client_secret': client_secret,\n",
      "     'grant_type': 'password',\n",
      "     'format': 'json',\n",
      "     'password': password,\n",
      "     #'password': password + str(token),\n",
      "     'username': username}\n",
      "    base = 'login' if not sandbox else 'test'\n",
      "    my_url = 'https://' +base +'.salesforce.com/services/oauth2/token'\n",
      "    print my_url\n",
      "    return requests.post(url=my_url, params=params)\n"
     ],
     "language": "python",
     "metadata": {},
     "outputs": []
    },
    {
     "cell_type": "code",
     "collapsed": false,
     "input": [
      "print \"client id:\\t%s\\nclient secret:\\t%s\\nuser:\\t\\t%s\\npass:\\t\\t%s\\nsandbox:\\t%s\" \\\n",
      "    % (CLIENT_ID, CLIENT_SECRET, USERNAME, PASSWD, sandbox)"
     ],
     "language": "python",
     "metadata": {},
     "outputs": []
    },
    {
     "cell_type": "heading",
     "level": 3,
     "metadata": {},
     "source": [
      "Execute Order66"
     ]
    },
    {
     "cell_type": "code",
     "collapsed": false,
     "input": [
      "# curl https://login.salesforce.com/services/oauth2/token -d \"grant_type=password\" -d \"client_id=myclientid\" -d \"client_secret=myclientsecret\"-d \"username=mylogin@salesforce.com\" -d \"password=mypassword123456\"\n",
      "rsp = token_login(username = USERNAME, password = PASSWD, \n",
      "              client_id = CLIENT_ID, client_secret = CLIENT_SECRET, sandbox=sandbox)\n"
     ],
     "language": "python",
     "metadata": {},
     "outputs": []
    },
    {
     "cell_type": "code",
     "collapsed": false,
     "input": [
      "dir(rsp)"
     ],
     "language": "python",
     "metadata": {},
     "outputs": []
    },
    {
     "cell_type": "code",
     "collapsed": false,
     "input": [
      "rsp.text"
     ],
     "language": "python",
     "metadata": {},
     "outputs": []
    },
    {
     "cell_type": "code",
     "collapsed": false,
     "input": [
      "if rsp.status_code > 300:\n",
      "    raise RuntimeError('Log pull down failed: ' +rsp.text)"
     ],
     "language": "python",
     "metadata": {},
     "outputs": []
    },
    {
     "cell_type": "code",
     "collapsed": false,
     "input": [
      "packet = rsp.json()"
     ],
     "language": "python",
     "metadata": {},
     "outputs": []
    },
    {
     "cell_type": "code",
     "collapsed": false,
     "input": [
      "def get_header(token):\n",
      "    return {'Content-Type': 'application/json',\n",
      "            'Authorization': 'Bearer ' + token,\n",
      "            'X-PrettyPrint': '1'\n",
      "            }"
     ],
     "language": "python",
     "metadata": {},
     "outputs": []
    },
    {
     "cell_type": "code",
     "collapsed": false,
     "input": [
      "instance = packet['instance_url']\n",
      "issued = packet['issued_at']\n",
      "token = packet['access_token']\n",
      "\n",
      "header = {\n",
      "            'Content-Type': 'application/json',\n",
      "            'Authorization': 'Bearer ' + token,\n",
      "            'X-PrettyPrint': '1'\n",
      "        }\n",
      "\n",
      "if (verbose):\n",
      "    print 'Success! Packet info:\\n\\tinstance:\\t%s\\n\\tissued:\\t\\t%s\\n\\ttoken:\\t\\t%s' % (instance, issued, token)  \n",
      "    pp.pprint(header)\n"
     ],
     "language": "python",
     "metadata": {},
     "outputs": []
    },
    {
     "cell_type": "heading",
     "level": 3,
     "metadata": {},
     "source": [
      "Build Log Query"
     ]
    },
    {
     "cell_type": "code",
     "collapsed": false,
     "input": [
      "\"\"\"key parameters:\n",
      "    version={29.0, 30.0, 31.0}\n",
      "    last_days={1..}\n",
      "    dest_folder=<path>\n",
      "\"\"\""
     ],
     "language": "python",
     "metadata": {},
     "outputs": []
    },
    {
     "cell_type": "code",
     "collapsed": false,
     "input": [
      "if (testing):\n",
      "    version = '31.0'\n",
      "    last_days = 100\n",
      "    dest_folder = ''\n",
      "    "
     ],
     "language": "python",
     "metadata": {},
     "outputs": []
    },
    {
     "cell_type": "code",
     "collapsed": false,
     "input": [
      "def get_query(instance, days):\n",
      "    #https://${instance}.salesforce.com/services/data/v31.0/query?q=Select+Id+,+EventType+,+LogDate+From+EventLogFile+Where+LogDate+=+${day}\n",
      "\n",
      "    #query = 'Select+Id+,+EventType+,+LogDate+From+EventLogFile+Where+LogDate+=+Last_n_Days:{last_days}'\n",
      "    query = 'Select Id , EventType , LogDate From EventLogFile Where LogDate = Last_n_Days:{last_days}'\n",
      "    query = query.format(last_days = last_days)\n",
      "    base_url = '{instance}/services/data/v{version}/query'\n",
      "    base_url = base_url.format(instance = instance, version = version, query = query)\n",
      "    params = {'q': query}\n",
      "    \n",
      "    return base_url, params"
     ],
     "language": "python",
     "metadata": {},
     "outputs": []
    },
    {
     "cell_type": "code",
     "collapsed": false,
     "input": [
      "#https://${instance}.salesforce.com/services/data/v31.0/query?q=Select+Id+,+EventType+,+LogDate+From+EventLogFile+Where+LogDate+=+${day}\n",
      "\n",
      "#query = 'Select+Id+,+EventType+,+LogDate+From+EventLogFile+Where+LogDate+=+Last_n_Days:{last_days}'\n",
      "query = 'Select Id , EventType , LogDate From EventLogFile Where LogDate = Last_n_Days:{last_days}'\n",
      "query = query.format(last_days = last_days)\n",
      "base_url = '{instance}/services/data/v{version}/query'\n",
      "base_url = base_url.format(instance = instance, version = version, query = query)\n",
      "params = {'q': query}\n",
      "\n",
      "print 'base_url:\\t%s\\nparams:\\t%s' % (base_url, params)"
     ],
     "language": "python",
     "metadata": {},
     "outputs": []
    },
    {
     "cell_type": "code",
     "collapsed": false,
     "input": [
      "def call_salesforce(req, header):\n",
      "    request.get(req,headers=header)"
     ],
     "language": "python",
     "metadata": {},
     "outputs": []
    },
    {
     "cell_type": "code",
     "collapsed": false,
     "input": [
      "# orgs => list of at least 1 org\n",
      "# login => method of login: REST or SOAP\n",
      "# days => # of days back to collect logs\n",
      "def run_log_collect(orgs, login, days):\n",
      "    for o in orgs:\n",
      "        org = org_collect[o]\n",
      "        # get header\n",
      "        header_key = org['sessionid'] if login == 'SOAP' else org['token']\n",
      "        header = get_header(header_key)\n",
      "        url, params = get_query(org['sf_instance'], days)\n",
      "        \n",
      "        qres = requests.get(url, headers=header, params=params)\n",
      "        \n",
      "        if qres.status_code > 200:\n",
      "            log.error('Request failed: ' +qres.reason)\n",
      "            \n",
      "        result = qres.json()\n",
      "        if not result['done']:\n",
      "            raise RuntimeError(\"Something's wrong: \" +result) \n",
      "        if result['totalSize'] < 1:\n",
      "            log.warning('No entries to pull')\n",
      "            \n",
      "        records = result['records']\n",
      "\n",
      "        log_list = []\n",
      "        for r in records:\n",
      "            x = build_record_info(o, r)\n",
      "            log_list.append(x)\n",
      "            download_file(r)"
     ],
     "language": "python",
     "metadata": {},
     "outputs": []
    },
    {
     "cell_type": "code",
     "collapsed": false,
     "input": [
      "qres = requests.get(base_url, headers=header, params=params)"
     ],
     "language": "python",
     "metadata": {},
     "outputs": []
    },
    {
     "cell_type": "code",
     "collapsed": false,
     "input": [
      "qres.status_code"
     ],
     "language": "python",
     "metadata": {},
     "outputs": []
    },
    {
     "cell_type": "code",
     "collapsed": false,
     "input": [
      "result = qres.json()"
     ],
     "language": "python",
     "metadata": {},
     "outputs": []
    },
    {
     "cell_type": "code",
     "collapsed": false,
     "input": [
      "if not result['done']:\n",
      "    raise RuntimeError(\"Something's wrong: \" +result) "
     ],
     "language": "python",
     "metadata": {},
     "outputs": []
    },
    {
     "cell_type": "code",
     "collapsed": false,
     "input": [
      "if result['totalSize'] < 1:\n",
      "    log.warning('No entries to pull')"
     ],
     "language": "python",
     "metadata": {},
     "outputs": []
    },
    {
     "cell_type": "heading",
     "level": 3,
     "metadata": {},
     "source": [
      "Extract the records"
     ]
    },
    {
     "cell_type": "heading",
     "level": 3,
     "metadata": {},
     "source": [
      "Build list properties"
     ]
    },
    {
     "cell_type": "code",
     "collapsed": false,
     "input": [
      "def check_dir(dir_path):\n",
      "    if not os.path.exists(dir_path):\n",
      "        os.makedirs(dir_path)"
     ],
     "language": "python",
     "metadata": {},
     "outputs": []
    },
    {
     "cell_type": "code",
     "collapsed": false,
     "input": [
      "def build_record_info(org_name, record):\n",
      "    \n",
      "    if record['attributes']['type'] != 'EventLogFile':\n",
      "        print 'Not a log type:\\t%s' % record['attributes']['type']\n",
      "        return {}\n",
      "    r = {}\n",
      "    r['org_name'] = org_name\n",
      "    r['id'] = record['Id']\n",
      "    r['date'] = record['LogDate'].split('T')[0]\n",
      "    r['url'] = record['attributes']['url'] +'/LogFile'\n",
      "    r['type'] = record['EventType']\n",
      "\n",
      "    r['dest_folder'] = org_name +'.logs.'+r['date']\n",
      "    file_path = '{dest_folder}/{log_type}.{date}.log'\n",
      "    r['file_path'] = file_path.format(dest_folder=record['dest_folder'],\n",
      "                                      log_type=record['type'], \n",
      "                                      date=record['date'])\n",
      "\n",
      "    return r"
     ],
     "language": "python",
     "metadata": {},
     "outputs": []
    },
    {
     "cell_type": "code",
     "collapsed": false,
     "input": [
      "records = result['records']\n",
      "\n",
      "log_list = []\n",
      "for r in records:\n",
      "    x = build_record_info(r)\n",
      "    log_list.append(x)\n",
      "    print x"
     ],
     "language": "python",
     "metadata": {},
     "outputs": []
    },
    {
     "cell_type": "code",
     "collapsed": false,
     "input": [
      "# overwrite existing files; in case need to replace\n",
      "def download_file(record):\n",
      "    dest_filename = record['file_path']\n",
      "    base_url = instance +record['url']\n",
      "    r= requests.get(base_url, headers=header, stream=True)\n",
      "    \n",
      "    if os.path.isfile(filename):\n",
      "        print 'Warning: file %s already exists; overwriting' % dest_filename\n",
      "        \n",
      "    if not r.ok:\n",
      "        print 'Ouch. something went wrong with: %s' % record\n",
      "        return False\n",
      "    \n",
      "    with open(dest_filename, 'wb') as f:\n",
      "        for chunk in r.iter_content(chunk_size=1024):\n",
      "            if chunk:\n",
      "                f.write(chunk)\n",
      "                f.flush()\n",
      "    return 'Saved to: %s' % (dest_filename)"
     ],
     "language": "python",
     "metadata": {},
     "outputs": []
    },
    {
     "cell_type": "code",
     "collapsed": false,
     "input": [
      "log_list[-1]"
     ],
     "language": "python",
     "metadata": {},
     "outputs": []
    },
    {
     "cell_type": "code",
     "collapsed": false,
     "input": [
      "print download_file(log_list[-1])"
     ],
     "language": "python",
     "metadata": {},
     "outputs": []
    },
    {
     "cell_type": "code",
     "collapsed": false,
     "input": [
      "for l in log_list:\n",
      "    #print l['dest_folder']\n",
      "    check_dir(l['dest_folder'])\n",
      "    download_file(l)"
     ],
     "language": "python",
     "metadata": {},
     "outputs": []
    },
    {
     "cell_type": "code",
     "collapsed": false,
     "input": [
      "lrsp.json()"
     ],
     "language": "python",
     "metadata": {},
     "outputs": []
    },
    {
     "cell_type": "code",
     "collapsed": false,
     "input": [
      "print \"Please selection method of API login\"\n",
      "loginWidget = widgets.RadioButtonsWidget(values=[\"Connected App/REST Login (Access token)\", \"SOAP Login (session id)\"], value=\"SOAP Login (session id)\")\n",
      "display(loginWidget)"
     ],
     "language": "python",
     "metadata": {},
     "outputs": []
    },
    {
     "cell_type": "code",
     "collapsed": false,
     "input": [
      "loginWidget.value"
     ],
     "language": "python",
     "metadata": {},
     "outputs": []
    },
    {
     "cell_type": "code",
     "collapsed": false,
     "input": [
      "initWidget = widgets.RadioButtonsWidget(description='Initialize config file or read existing?',\n",
      "                                        values=[\"Initialize\", \"Read Existing\"], value=\"Read Existing\")\n",
      "display(initWidget)\n",
      "\n",
      "loginWidget = widgets.RadioButtonsWidget(description='Choose login method:',\n",
      "                                         values=[\"Access Token (REST)\", \"Session ID (SOAP)\"],\n",
      "                                         value=\"Session ID (SOAP)\")\n",
      "display(loginWidget)\n",
      "\n",
      "fileWidget = widgets.TextWidget(description='specify target file path:',\n",
      "                                value='/Users/hcanivel/Documents/Salesforce/projects/scripts/event.log.files/api.logs.collect/.creds.enc')\n",
      "display(fileWidget)\n",
      "\n",
      "exWidget = widgets.ButtonWidget(description='Pull logs')\n",
      "orgs = ['all'] + org_list.keys()\n",
      "orgWidget = widgets.RadioButtonsWidget(description='Choose org from which to collect logs:',\n",
      "                                         values=orgs,\n",
      "                                         value=orgs[0])\n",
      "daysWidget = widgets.TextWidget(description='how many days back? [1-7]', value='1')\n",
      "\n",
      "def handle_submit(sender):\n",
      "    print(\"file location: \"+fileWidget.value)\n",
      "    validate_config(fileWidget.value)\n",
      "    display(orgWidget)\n",
      "    display(daysWidget)\n",
      "    display(exWidget)\n",
      "\n",
      "validWidget = widgets.ButtonWidget(description='Validate file')\n",
      "display(validWidget)\n",
      "\n",
      "validWidget.on_click(handle_submit)\n",
      "\n",
      "def check_log_query_settings(sender):\n",
      "    try:\n",
      "        days = int(daysWidget.value)\n",
      "    except:\n",
      "        log.error('invalid integer <%s>. specify 1-7 days' % str(days))\n",
      "        return\n",
      "    if not (0 < days and days <= 7):\n",
      "        log.error('invalid integer <%s>. specify 1-7 days' % str(days))\n",
      "        return\n",
      "    log.info('attempting to collect %s days of logs from %s' % (days, orgWidget.value))\n",
      "    \n",
      "    org_collect = []\n",
      "    if orgWidget.value == 'all':\n",
      "        org_collect = org_list.keys()\n",
      "    else:\n",
      "        org_collect.append(orgWidget.value)\n",
      "    login = \"REST\" if 'REST' in loginWidget.value else \"SOAP\"\n",
      "    log.info(' Getting logs for: ' \n",
      "             +','.join(map(str,org_collect)) \n",
      "             + '. method: %s' %loginWidget.value\n",
      "             +'. days collect: %i' % days)\n",
      "    \n",
      "    run_log_collect(orgs=org_collect, login=login, days=days)\n",
      "\n",
      "exWidget.on_click(check_log_query_settings)"
     ],
     "language": "python",
     "metadata": {},
     "outputs": []
    },
    {
     "cell_type": "code",
     "collapsed": false,
     "input": [
      "cfg.sections()"
     ],
     "language": "python",
     "metadata": {},
     "outputs": []
    },
    {
     "cell_type": "code",
     "collapsed": false,
     "input": [
      "org_collect; sorted(org_list.keys())"
     ],
     "language": "python",
     "metadata": {},
     "outputs": []
    },
    {
     "cell_type": "code",
     "collapsed": false,
     "input": [
      "validate_config(fileWidget.value)"
     ],
     "language": "python",
     "metadata": {},
     "outputs": []
    },
    {
     "cell_type": "code",
     "collapsed": false,
     "input": [
      "fileWidget.value"
     ],
     "language": "python",
     "metadata": {},
     "outputs": []
    },
    {
     "cell_type": "code",
     "collapsed": false,
     "input": [
      "datetime.now().strftime('%s')"
     ],
     "language": "python",
     "metadata": {},
     "outputs": []
    },
    {
     "cell_type": "code",
     "collapsed": false,
     "input": [
      "extract_configs(check_rest=False, app='all')"
     ],
     "language": "python",
     "metadata": {},
     "outputs": []
    },
    {
     "cell_type": "code",
     "collapsed": false,
     "input": [
      "org_list"
     ],
     "language": "python",
     "metadata": {},
     "outputs": []
    },
    {
     "cell_type": "code",
     "collapsed": false,
     "input": [
      "app_list"
     ],
     "language": "python",
     "metadata": {},
     "outputs": []
    },
    {
     "cell_type": "code",
     "collapsed": false,
     "input": [
      "org_list.keys()"
     ],
     "language": "python",
     "metadata": {},
     "outputs": []
    },
    {
     "cell_type": "code",
     "collapsed": false,
     "input": [
      "['all'] + org_list.keys()"
     ],
     "language": "python",
     "metadata": {},
     "outputs": []
    },
    {
     "cell_type": "code",
     "collapsed": false,
     "input": [
      "for o in org_list:\n",
      "    print o"
     ],
     "language": "python",
     "metadata": {},
     "outputs": []
    },
    {
     "cell_type": "code",
     "collapsed": false,
     "input": [
      "check_time = int(datetime.now().strftime('%s'))\n",
      "for o in org_list:\n",
      "    org = org_list[o]\n",
      "    try:\n",
      "        # if the current session id is invalid or expired (> 24h)\n",
      "        if org['issued'] is None or (check_time - int(org['issued'])) >= 86400:\n",
      "            session_id, sf_instance, issued = sessionid_login(org=o,\n",
      "                                                              username=org['user'], \n",
      "                                                              password=org['pass'], \n",
      "                                                              orgid=org['orgid'], \n",
      "                                                              sandbox=(org['env'] == 'sandbox'))\n",
      "    except Exception, e:\n",
      "        log.error(str(e) +': failed for org %s' %o)\n",
      "    org['sessionid'] = session_id\n",
      "    org['sf_instance'] = sf_instance\n",
      "    org['issued'] = issued\n"
     ],
     "language": "python",
     "metadata": {},
     "outputs": []
    },
    {
     "cell_type": "code",
     "collapsed": false,
     "input": [
      "org_list"
     ],
     "language": "python",
     "metadata": {},
     "outputs": []
    },
    {
     "cell_type": "code",
     "collapsed": false,
     "input": [
      "l=org_list['tz']\n",
      "(int(datetime.now().strftime('%s')) - int(l['issued'])) >= 86400"
     ],
     "language": "python",
     "metadata": {},
     "outputs": []
    },
    {
     "cell_type": "code",
     "collapsed": false,
     "input": [],
     "language": "python",
     "metadata": {},
     "outputs": []
    }
   ],
   "metadata": {}
  }
 ]
}